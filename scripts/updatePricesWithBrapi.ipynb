{
 "cells": [
  {
   "cell_type": "code",
   "execution_count": null,
   "metadata": {},
   "outputs": [],
   "source": [
    "import requests\n",
    "from dotenv import load_dotenv\n",
    "import os\n",
    "\n",
    "load_dotenv()"
   ]
  },
  {
   "cell_type": "code",
   "execution_count": null,
   "metadata": {},
   "outputs": [],
   "source": [
    "\n",
    "class BrapiApi:\n",
    "    def __init__(self, base_url=os.getenv(\"VITE_BRAPI_BASE_URL\")):\n",
    "        self.base_url = base_url\n",
    "\n",
    "    def get_quote_by_name(self, name):\n",
    "        url = f\"{self.base_url}/quote/{name}\"\n",
    "        response = requests.get(url, headers={\n",
    "           'Authorization': f'Bearer {os.getenv(\"VITE_BRAPI_AUTH_TOKEN\")}'\n",
    "        })\n",
    "        if response.status_code == 200:\n",
    "            return response.json()\n",
    "        else:\n",
    "            print(f\"Failed to fetch price for {name}. Status code: {response.status_code}\")\n",
    "            return None\n",
    "\n",
    "\n",
    "class FinancingApi:\n",
    "    def __init__(self, base_url=os.getenv(\"VITE_FINANCING_BASE_URL\")):\n",
    "        self.base_url = base_url\n",
    "\n",
    "    def post_price(self, investiment_id, price):\n",
    "        url = f\"{self.base_url}/prices\"\n",
    "        payload = {\n",
    "            \"investiment_id\": investiment_id,\n",
    "            \"price\": price\n",
    "        }\n",
    "        response = requests.post(url, json=payload)\n",
    "        if response.status_code == 201:\n",
    "            print(f\"Price posted successfully for {investiment_id}\")\n",
    "        else:\n",
    "            print(f\"Failed to post price for {investiment_id}. Status code: {response.status_code}\")\n",
    "\n",
    "    def put_price_by_id(self, investiment_id, price):\n",
    "        url = f\"{self.base_url}/prices/{investiment_id}\"\n",
    "        payload = {\n",
    "            \"price\": price\n",
    "        }\n",
    "        response = requests.put(url, json=payload)\n",
    "        if response.status_code == 200:\n",
    "            print(f\"Price updated successfully for {investiment_id}\")\n",
    "        else:\n",
    "            print(f\"Failed to update price for {investiment_id}. Status code: {response.status_code}\")\n",
    "\n",
    "\n",
    "def update_prices_with_brapi(investiments, investiment_type):\n",
    "    brapi_api_service = BrapiApi()\n",
    "    financing_api_service = FinancingApi()\n",
    "\n",
    "    for inv in investiments:\n",
    "        if inv[\"investiment_type\"] != investiment_type: continue\n",
    "        brapi_price = brapi_api_service.get_quote_by_name(inv[\"name\"])\n",
    "        if brapi_price and brapi_price.get(\"results\") and brapi_price[\"results\"][0].get(\"regularMarketPrice\"):\n",
    "            price = brapi_price[\"results\"][0][\"regularMarketPrice\"]\n",
    "            print(price)\n",
    "            financing_api_service.post_price(inv[\"id\"], price)\n",
    "        else:\n",
    "            print(f\"Failed to fetch price for {inv['name']}\")\n",
    "\n",
    "\n",
    "investiments = requests.get(f\"{os.getenv('VITE_FINANCING_BASE_URL')}/investiments\").json()\n",
    "investiment_type = \"FII\"\n",
    "update_prices_with_brapi(investiments, investiment_type)"
   ]
  }
 ],
 "metadata": {
  "kernelspec": {
   "display_name": "Python 3",
   "language": "python",
   "name": "python3"
  },
  "language_info": {
   "codemirror_mode": {
    "name": "ipython",
    "version": 3
   },
   "file_extension": ".py",
   "mimetype": "text/x-python",
   "name": "python",
   "nbconvert_exporter": "python",
   "pygments_lexer": "ipython3",
   "version": "3.10.12"
  }
 },
 "nbformat": 4,
 "nbformat_minor": 2
}
